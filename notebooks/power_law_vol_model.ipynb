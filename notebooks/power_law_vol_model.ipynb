{
 "cells": [
  {
   "cell_type": "markdown",
   "id": "2603c9e7-671d-4ac5-8d34-2ab7eed491c1",
   "metadata": {},
   "source": [
    "# Volatility distributions that maximize gains\n",
    "\n",
    "Look at how gains are time  variant\n",
    "\n",
    "Would be nice to see distribution of time spent in sp500 by looking at sp500 throughout time"
   ]
  },
  {
   "cell_type": "code",
   "execution_count": 306,
   "id": "ebff0596-4fe6-4284-9b69-b5f8435cfc49",
   "metadata": {},
   "outputs": [],
   "source": [
    "import numpy as np\n",
    "import pandas as pd\n",
    "import matplotlib.pyplot as plt\n",
    "plt.style.use(['dark_background'])\n",
    "\n",
    "from bs4 import BeautifulSoup\n",
    "from urllib.request import Request, urlopen\n",
    "import yfinance as yf\n",
    "import time\n",
    "\n",
    "\"\"\"\n",
    "useful resources:\n",
    "     in case of reshape into rectangular: https://stackoverflow.com/questions/63812587/reshaping-a-pandas-dataframe-based-on-column-values\n",
    "\"\"\"\n",
    "SAVE_PATH = '../data/sp500.csv'\n",
    "## Data  functions\n",
    "def _is_all_caps(s):\n",
    "    caps = \"ABCDEFGHIJKLMNOPQRSTUVWXYZ\"\n",
    "    return sum([i in caps for i in s]) == len(s)\n",
    "\n",
    "\n",
    "def get_sp500(url='https://en.wikipedia.org/wiki/List_of_S%26P_500_companies', \n",
    "              min_days=36,\n",
    "              save=SAVE_PATH):\n",
    "    \"\"\"\n",
    "    takes around 240 s\n",
    "    \"\"\"\n",
    "    timer_start = time.time()\n",
    "    hdr = {'User-Agent': 'Mozilla/5.0'}\n",
    "    req = Request(url, headers=hdr)\n",
    "    page = urlopen(req)\n",
    "    soup = BeautifulSoup(page)\n",
    "\n",
    "    sp500 = [] # alittle more than sp500, need to fix\n",
    "    # links_cases = ['nyse', 'nasdaq', 'cboe']\n",
    "    for a in soup.find_all('a'):\n",
    "        try:\n",
    "            if _is_all_caps(a.get_text()):\n",
    "                # print('www.nyse.com/quote/XNYS' in a.get('href'))        \n",
    "                sp500.append(a.get_text())\n",
    "        except:\n",
    "            pass\n",
    "        \n",
    "    sp500 = set(sp500)\n",
    "    df_list = []\n",
    "    for t in sp500:\n",
    "        close = pd.DataFrame(yf.Ticker(t).history(period=\"max\")['Close']).reset_index()\n",
    "        if len(close) < min_days:\n",
    "            continue\n",
    "        close['ticker'] = t\n",
    "        df_list.append(close)\n",
    "    df = pd.concat(df_list).reset_index(drop=True).rename(columns={'Close':'price', 'Date':'date'})\n",
    "    print(f\"\"\"Shape: {df.shape}\n",
    "            (Took {time.time()  - timer_start:.2f} s)\"\"\")\n",
    "    try:\n",
    "        if save:\n",
    "            df.to_csv(save, index=False)\n",
    "            print(f'Saving csv to {save}...')\n",
    "    except OSError as e:\n",
    "        print(e)\n",
    "    return df\n",
    "\n",
    "\n",
    "def load_sp500(path=SAVE_PATH):\n",
    "    return pd.read_csv(SAVE_PATH, parse_dates=['date'])\n",
    "    \n",
    "    \n",
    "def year_filter_data(df, year_cutoff):\n",
    "    \"\"\"\n",
    "    keep tickers who went public up to year_cutoff\n",
    "    then select data after year_cutoff\n",
    "    \"\"\"\n",
    "    # filter by year\n",
    "    time_masks = df.loc[df.date.dt.year <= year_cutoff, 'ticker'] #or df['date'].dt.year.groupby(df['ticker']).transform('min')<1990\n",
    "    df = df[df.ticker.isin(time_masks)][df.date.dt.year >= year_cutoff].reset_index(drop=True) # only look at data after year_cutoff\n",
    "    # remove few outliers with nonconforming date ranges\n",
    "    value_counts = df.groupby('ticker')['price'].count().value_counts() \n",
    "    mode_length = value_counts.index[value_counts.argmax()] # use mode after checking distribution of value_counts\n",
    "    length_masks = df.groupby('ticker')['price'].transform('count') == mode_length\n",
    "    df = df[length_masks]\n",
    "    print('num time points:', set(df.ticker.value_counts()))\n",
    "    return df\n",
    "\n",
    "\n",
    "def train_test_dfs(df, split=0.8):\n",
    "    \"\"\"\n",
    "    from: https://stackoverflow.com/questions/55796153/train-test-split-based-on-a-column-values-sequentially\n",
    "    \"\"\"\n",
    "    cum = df.groupby('ticker').ticker.cumcount()#get the count for each group\n",
    "    cum = cum//(df.groupby('ticker').ticker.transform('count')*split).astype(int)\n",
    "    train = df.loc[cum==0] # where cumcount/size_of_train is < 1\n",
    "    test = df.drop(train.index).reset_index(drop=True)\n",
    "    train = train.reset_index(drop=True)\n",
    "    return train, test\n",
    "\n",
    "    \n",
    "# analysis functions\n",
    "def volatility(ts):\n",
    "    return np.var(ts)\n",
    "\n",
    "\n",
    "def power_law_weight():\n",
    "    \"\"\"\n",
    "    ?1.Linearly sort all tickers by volatility\n",
    "    2. add a weight , in terms of percent of budget\n",
    "    \"\"\"\n",
    "    pass"
   ]
  },
  {
   "cell_type": "code",
   "execution_count": 246,
   "id": "eda2d6f6-65b9-4ea4-bc2a-de9dcb3e2883",
   "metadata": {},
   "outputs": [
    {
     "name": "stdout",
     "output_type": "stream",
     "text": [
      "511 tickers\n"
     ]
    }
   ],
   "source": [
    "df = load_sp500()\n",
    "print(len(df.ticker.unique()), 'tickers')"
   ]
  },
  {
   "cell_type": "code",
   "execution_count": 44,
   "id": "6f29f007-4a7f-45be-bcf0-fba7a827f26a",
   "metadata": {},
   "outputs": [
    {
     "data": {
      "image/png": "[encoded data removed]",
      "text/plain": [
       "<Figure size 432x288 with 1 Axes>"
      ]
     },
     "metadata": {},
     "output_type": "display_data"
    }
   ],
   "source": [
    "plt.figure()\n",
    "start_years = df.groupby('ticker')['date'].apply(lambda x: x.dt.year.min())\n",
    "plt.hist(start_years, bins=70)\n",
    "plt.show()"
   ]
  },
  {
   "cell_type": "markdown",
   "id": "ec1197bc-2e60-401b-96ce-4e465e9e6a38",
   "metadata": {},
   "source": [
    "# data reshape\n",
    "\n",
    "- then find latest start date, and start there\n",
    "- 90/10 split\n",
    "\n",
    "\n",
    "## 1. filtering for tickers whose minimum year is at most `year_cutoff` \n",
    "- and then looking at data 1990 onwards\n",
    "- Why: so each ticker have the same time range"
   ]
  },
  {
   "cell_type": "code",
   "execution_count": 247,
   "id": "d45659a8-a419-4232-8c6b-8039bc156a69",
   "metadata": {},
   "outputs": [
    {
     "name": "stderr",
     "output_type": "stream",
     "text": [
      "/var/folders/xc/7yy4pnhj7vs66gsxgymx9ffr0000gn/T/ipykernel_74246/963886275.py:71: UserWarning: Boolean Series key will be reindexed to match DataFrame index.\n",
      "  df = df[df.ticker.isin(time_masks)][df.date.dt.year >= year_cutoff].reset_index(drop=True) # only look at data after year_cutoff\n"
     ]
    },
    {
     "name": "stdout",
     "output_type": "stream",
     "text": [
      "num time points: {8184}\n",
      "257 tickers\n"
     ]
    }
   ],
   "source": [
    "df = year_filter_data(df, year_cutoff=1990)\n",
    "print(len(df.ticker.unique()), 'tickers')"
   ]
  },
  {
   "cell_type": "code",
   "execution_count": 307,
   "id": "9bc39f80-2340-47c6-8107-ba701f64b09b",
   "metadata": {},
   "outputs": [],
   "source": [
    "train, test = train_test_dfs(df, split=0.8)"
   ]
  },
  {
   "cell_type": "markdown",
   "id": "811196d0-e5fa-4866-9a43-959cec3c8ca3",
   "metadata": {},
   "source": [
    "# Volatility\n",
    "ewma, GARCH\n",
    "\n",
    "does there exist a measure where you normalize the time series so it doesn't go up constantly (like EEG signal)"
   ]
  },
  {
   "cell_type": "code",
   "execution_count": 326,
   "id": "a05ebe62-0de5-4c67-95a4-85a17d7dd2a7",
   "metadata": {},
   "outputs": [
    {
     "data": {
      "text/plain": [
       "0.006632118927307579"
      ]
     },
     "execution_count": 326,
     "metadata": {},
     "output_type": "execute_result"
    }
   ],
   "source": [
    "def ewma_vol(series, lam=0.94):\n",
    "    \"\"\"\n",
    "    volatility as stdev of exponentially weighted moving average\n",
    "    \"\"\"\n",
    "    if not isinstance(series, np.ndarray):\n",
    "        series = np.array(series)\n",
    "    daily_returns = np.log(series[1:]/series[:-1])\n",
    "    ewma = [daily_returns[0]**2]\n",
    "    for i, u in enumerate(daily_returns[1:]):\n",
    "        ewma.append(lam*u**2 + (1-lam)*ewma[i]) #i is actually previous ewma\n",
    "    \n",
    "    return np.std(ewma)\n",
    "ewma_vol(train[train.ticker=='AAPL'].price)"
   ]
  },
  {
   "cell_type": "markdown",
   "id": "632f4044-8026-4fec-9c73-db2cd074f5d6",
   "metadata": {},
   "source": [
    "# todo look at frequency line plot instead of hist to get better vis"
   ]
  },
  {
   "cell_type": "code",
   "execution_count": 334,
   "id": "6d18ebd4-9c09-4b6d-a2ca-d541ff0dbd83",
   "metadata": {},
   "outputs": [
    {
     "data": {
      "image/png": "[encoded data removed]",
      "text/plain": [
       "<Figure size 432x288 with 1 Axes>"
      ]
     },
     "metadata": {},
     "output_type": "display_data"
    }
   ],
   "source": [
    "ewmas = train.groupby('ticker')['price'].apply(lambda x: ewma_vol(x))\n",
    "plt.hist(ewmas, bins=100)\n",
    "plt.yscale('log')\n",
    "plt.show()"
   ]
  }
 ],
 "metadata": {
  "kernelspec": {
   "display_name": "Python 3 (ipykernel)",
   "language": "python",
   "name": "python3"
  },
  "language_info": {
   "codemirror_mode": {
    "name": "ipython",
    "version": 3
   },
   "file_extension": ".py",
   "mimetype": "text/x-python",
   "name": "python",
   "nbconvert_exporter": "python",
   "pygments_lexer": "ipython3",
   "version": "3.9.12"
  }
 },
 "nbformat": 4,
 "nbformat_minor": 5
}
