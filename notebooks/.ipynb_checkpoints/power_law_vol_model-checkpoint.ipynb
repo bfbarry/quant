{
 "cells": [
  {
   "cell_type": "markdown",
   "id": "2603c9e7-671d-4ac5-8d34-2ab7eed491c1",
   "metadata": {},
   "source": [
    "# Volatility distributions that maximize gains\n",
    "\n",
    "Look at how gains are time  variant\n",
    "\n",
    "Would be nice to see distribution of time spent in sp500 by looking at sp500 throughout time"
   ]
  },
  {
   "cell_type": "code",
   "execution_count": 189,
   "id": "ebff0596-4fe6-4284-9b69-b5f8435cfc49",
   "metadata": {},
   "outputs": [],
   "source": [
    "import numpy as np\n",
    "import pandas as pd\n",
    "import matplotlib.pyplot as plt\n",
    "plt.style.use(['dark_background'])\n",
    "\n",
    "from bs4 import BeautifulSoup\n",
    "from urllib.request import Request, urlopen\n",
    "import yfinance as yf\n",
    "import time\n",
    "\n",
    "\"\"\"\n",
    "useful resources:\n",
    "     in case of reshape into rectangular: https://stackoverflow.com/questions/63812587/reshaping-a-pandas-dataframe-based-on-column-values\n",
    "\"\"\"\n",
    "SAVE_PATH = '../data/sp500.csv'\n",
    "## Data  functions\n",
    "def _is_all_caps(s):\n",
    "    caps = \"ABCDEFGHIJKLMNOPQRSTUVWXYZ\"\n",
    "    return sum([i in caps for i in s]) == len(s)\n",
    "\n",
    "\n",
    "def get_sp500(url='https://en.wikipedia.org/wiki/List_of_S%26P_500_companies', \n",
    "              min_days=36,\n",
    "              save=SAVE_PATH):\n",
    "    \"\"\"\n",
    "    takes around 240 s\n",
    "    \"\"\"\n",
    "    timer_start = time.time()\n",
    "    hdr = {'User-Agent': 'Mozilla/5.0'}\n",
    "    req = Request(url, headers=hdr)\n",
    "    page = urlopen(req)\n",
    "    soup = BeautifulSoup(page)\n",
    "\n",
    "    sp500 = [] # alittle more than sp500, need to fix\n",
    "    # links_cases = ['nyse', 'nasdaq', 'cboe']\n",
    "    for a in soup.find_all('a'):\n",
    "        try:\n",
    "            if _is_all_caps(a.get_text()):\n",
    "                # print('www.nyse.com/quote/XNYS' in a.get('href'))        \n",
    "                sp500.append(a.get_text())\n",
    "        except:\n",
    "            pass\n",
    "        \n",
    "    sp500 = set(sp500)\n",
    "    df_list = []\n",
    "    for t in sp500:\n",
    "        close = pd.DataFrame(yf.Ticker(t).history(period=\"max\")['Close']).reset_index()\n",
    "        if len(close) < min_days:\n",
    "            continue\n",
    "        close['ticker'] = t\n",
    "        df_list.append(close)\n",
    "    df = pd.concat(df_list).reset_index(drop=True).rename(columns={'Close':'price', 'Date':'date'})\n",
    "    print(f\"\"\"Shape: {df.shape}\n",
    "            (Took {time.time()  - timer_start:.2f} s)\"\"\")\n",
    "    try:\n",
    "        if save:\n",
    "            df.to_csv(save, index=False)\n",
    "            print(f'Saving csv to {save}...')\n",
    "    except OSError as e:\n",
    "        print(e)\n",
    "    return df\n",
    "\n",
    "\n",
    "def load_sp500(path=SAVE_PATH):\n",
    "    return pd.read_csv(SAVE_PATH, parse_dates=['date'])\n",
    "    \n",
    "    \n",
    "def year_filter_data(df, year_cutoff):\n",
    "    \"\"\"\n",
    "    keep tickers who went public up to year_cutoff\n",
    "    then select data after year_cutoff\n",
    "    \"\"\"\n",
    "    # filter by year\n",
    "    time_masks = df.loc[df.date.dt.year <= year_cutoff, 'ticker'] #or df['date'].dt.year.groupby(df['ticker']).transform('min')<1990\n",
    "    df = df[df.ticker.isin(time_masks)][df.date.dt.year >= year_cutoff].reset_index(drop=True) # only look at data after year_cutoff\n",
    "    # remove few outliers with nonconforming date ranges\n",
    "    value_counts = df.groupby('ticker')['price'].count().value_counts() \n",
    "    mode_length = value_counts.index[value_counts.argmax()] # use mode after checking distribution of value_counts\n",
    "    length_masks = df.groupby('ticker')['price'].transform('count') == mode_length\n",
    "    df = df[length_masks]\n",
    "    print('num time points:', set(df.ticker.value_counts()))\n",
    "    return df\n",
    "\n",
    "\n",
    "def make_train_data(data, cut_off=0.8):\n",
    "\n",
    "    series = [] # original time series\n",
    "    series_train = [i[:CUT_OFF*len(i)] for i in series]\n",
    "\n",
    "    \n",
    "# analysis functions\n",
    "def volatility(ts):\n",
    "    return np.var(ts)\n",
    "\n",
    "\n",
    "def power_law_weight():\n",
    "    \"\"\"\n",
    "    ?1.Linearly sort all tickers by volatility\n",
    "    2. add a weight , in terms of percent of budget\n",
    "    \"\"\"\n",
    "    pass"
   ]
  },
  {
   "cell_type": "code",
   "execution_count": 246,
   "id": "eda2d6f6-65b9-4ea4-bc2a-de9dcb3e2883",
   "metadata": {},
   "outputs": [
    {
     "name": "stdout",
     "output_type": "stream",
     "text": [
      "511 tickers\n"
     ]
    }
   ],
   "source": [
    "df = load_sp500()\n",
    "print(len(df.ticker.unique()), 'tickers')"
   ]
  },
  {
   "cell_type": "code",
   "execution_count": 44,
   "id": "6f29f007-4a7f-45be-bcf0-fba7a827f26a",
   "metadata": {},
   "outputs": [
    {
     "data": {
      "image/png": "[encoded data removed]",
      "text/plain": [
       "<Figure size 432x288 with 1 Axes>"
      ]
     },
     "metadata": {},
     "output_type": "display_data"
    }
   ],
   "source": [
    "plt.figure()\n",
    "start_years = df.groupby('ticker')['date'].apply(lambda x: x.dt.year.min())\n",
    "plt.hist(start_years, bins=70)\n",
    "plt.show()"
   ]
  },
  {
   "cell_type": "markdown",
   "id": "ec1197bc-2e60-401b-96ce-4e465e9e6a38",
   "metadata": {},
   "source": [
    "# data reshape\n",
    "\n",
    "- then find latest start date, and start there\n",
    "- 90/10 split\n",
    "\n",
    "\n",
    "## 1. filtering for tickers whose minimum year is at most `year_cutoff` \n",
    "- and then looking at data 1990 onwards\n",
    "- Why: so each ticker have the same time range"
   ]
  },
  {
   "cell_type": "code",
   "execution_count": 247,
   "id": "d45659a8-a419-4232-8c6b-8039bc156a69",
   "metadata": {},
   "outputs": [
    {
     "name": "stderr",
     "output_type": "stream",
     "text": [
      "/var/folders/xc/7yy4pnhj7vs66gsxgymx9ffr0000gn/T/ipykernel_74246/963886275.py:71: UserWarning: Boolean Series key will be reindexed to match DataFrame index.\n",
      "  df = df[df.ticker.isin(time_masks)][df.date.dt.year >= year_cutoff].reset_index(drop=True) # only look at data after year_cutoff\n"
     ]
    },
    {
     "name": "stdout",
     "output_type": "stream",
     "text": [
      "num time points: {8184}\n",
      "257 tickers\n"
     ]
    }
   ],
   "source": [
    "df = year_filter_data(df, year_cutoff=1990)\n",
    "print(len(df.ticker.unique()), 'tickers')"
   ]
  },
  {
   "cell_type": "code",
   "execution_count": 249,
   "id": "9bc39f80-2340-47c6-8107-ba701f64b09b",
   "metadata": {},
   "outputs": [
    {
     "data": {
      "text/plain": [
       "ticker\n",
       "AAPL    1558018\n",
       "ABMD     575992\n",
       "ABT       65471\n",
       "ADBE     543256\n",
       "ADI     1315772\n",
       "         ...   \n",
       "WY       739672\n",
       "XEL      589087\n",
       "XOM      497426\n",
       "XRAY    1309224\n",
       "ZION    1682415\n",
       "Length: 257, dtype: int64"
      ]
     },
     "execution_count": 249,
     "metadata": {},
     "output_type": "execute_result"
    }
   ],
   "source": [
    "len_train = 0.8\n",
    "df_ix = df['ticker'].rename_axis('ix').reset_index()\n",
    "df_ix.groupby('ticker').apply(lambda x: int(len_train*x.ix.max()))"
   ]
  },
  {
   "cell_type": "code",
   "execution_count": 275,
   "id": "003b600b-1128-4883-9d4e-8f3953eea563",
   "metadata": {},
   "outputs": [],
   "source": [
    "# https://stackoverflow.com/questions/55796153/train-test-split-based-on-a-column-values-sequentially\n",
    "s = df.groupby('ticker').ticker.cumcount()#get the count for each group\n",
    "s = s//(df.groupby('ticker').ticker.transform('count')*0.8).astype(int)\n",
    "train = df.loc[s==0]\n",
    "test = df.drop(train.index).reset_index(drop=True)\n",
    "train = train.reset_index(drop=True)"
   ]
  },
  {
   "cell_type": "code",
   "execution_count": 280,
   "id": "662cff7a-467a-47c5-8804-dff7aabbff98",
   "metadata": {},
   "outputs": [
    {
     "data": {
      "text/plain": [
       "0          0\n",
       "1          0\n",
       "2          0\n",
       "3          0\n",
       "4          0\n",
       "          ..\n",
       "2143902    1\n",
       "2143903    1\n",
       "2143904    1\n",
       "2143905    1\n",
       "2143906    1\n",
       "Length: 2103288, dtype: int64"
      ]
     },
     "execution_count": 280,
     "metadata": {},
     "output_type": "execute_result"
    }
   ],
   "source": [
    "s"
   ]
  },
  {
   "cell_type": "code",
   "execution_count": 281,
   "id": "dd3f15ac-fc19-4c2b-a5a0-b6c9680b4345",
   "metadata": {},
   "outputs": [
    {
     "data": {
      "text/plain": [
       "0          6547.2\n",
       "1          6547.2\n",
       "2          6547.2\n",
       "3          6547.2\n",
       "4          6547.2\n",
       "            ...  \n",
       "2143902    6547.2\n",
       "2143903    6547.2\n",
       "2143904    6547.2\n",
       "2143905    6547.2\n",
       "2143906    6547.2\n",
       "Name: ticker, Length: 2103288, dtype: float64"
      ]
     },
     "execution_count": 281,
     "metadata": {},
     "output_type": "execute_result"
    }
   ],
   "source": [
    "df.groupby('ticker').ticker.transform('count')*0.8"
   ]
  },
  {
   "cell_type": "code",
   "execution_count": 279,
   "id": "6d18ebd4-9c09-4b6d-a2ca-d541ff0dbd83",
   "metadata": {},
   "outputs": [
    {
     "data": {
      "text/plain": [
       "ticker\n",
       "AAPL     30256.790579\n",
       "ABMD     88080.000036\n",
       "ABT      93389.832592\n",
       "ADBE    153013.388189\n",
       "ADI     131161.430505\n",
       "            ...      \n",
       "WY       73045.508653\n",
       "XEL      73716.468676\n",
       "XOM     188655.982708\n",
       "XRAY    128215.883049\n",
       "ZION    171046.241120\n",
       "Length: 257, dtype: float64"
      ]
     },
     "execution_count": 279,
     "metadata": {},
     "output_type": "execute_result"
    }
   ],
   "source": [
    "train.groupby('ticker').apply(lambda x: )"
   ]
  },
  {
   "cell_type": "markdown",
   "id": "811196d0-e5fa-4866-9a43-959cec3c8ca3",
   "metadata": {},
   "source": [
    "# Volatility\n",
    "ewma, GARCH"
   ]
  },
  {
   "cell_type": "code",
   "execution_count": null,
   "id": "3d0ff80d-3aae-4ba5-b274-9165b10399c1",
   "metadata": {},
   "outputs": [],
   "source": []
  }
 ],
 "metadata": {
  "kernelspec": {
   "display_name": "Python 3 (ipykernel)",
   "language": "python",
   "name": "python3"
  },
  "language_info": {
   "codemirror_mode": {
    "name": "ipython",
    "version": 3
   },
   "file_extension": ".py",
   "mimetype": "text/x-python",
   "name": "python",
   "nbconvert_exporter": "python",
   "pygments_lexer": "ipython3",
   "version": "3.9.12"
  }
 },
 "nbformat": 4,
 "nbformat_minor": 5
}
