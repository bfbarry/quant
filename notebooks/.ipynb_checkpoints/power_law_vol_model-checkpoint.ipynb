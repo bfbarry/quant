{
 "cells": [
  {
   "cell_type": "markdown",
   "id": "2603c9e7-671d-4ac5-8d34-2ab7eed491c1",
   "metadata": {},
   "source": [
    "# Volatility distributions that maximize gains\n",
    "\n",
    "Look at how gains are time  variant\n",
    "\n",
    "Would be nice to see distribution of time spent in sp500 by looking at sp500 throughout time"
   ]
  },
  {
   "cell_type": "code",
   "execution_count": 101,
   "id": "ebff0596-4fe6-4284-9b69-b5f8435cfc49",
   "metadata": {},
   "outputs": [],
   "source": [
    "import numpy as np\n",
    "import pandas as pd\n",
    "import matplotlib.pyplot as plt\n",
    "from bs4 import BeautifulSoup\n",
    "from urllib.request import Request, urlopen\n",
    "import time\n",
    "\n",
    "\n",
    "## Data  functions\n",
    "def _is_all_caps(s):\n",
    "    caps = \"ABCDEFGHIJKLMNOPQRSTUVWXYZ\"\n",
    "    return sum([i in caps for i in s]) == len(s)\n",
    "\n",
    "\n",
    "def get_sp500(url='https://en.wikipedia.org/wiki/List_of_S%26P_500_companies', \n",
    "              min_days=36,\n",
    "              save='../data/sp500.csv'):\n",
    "    \"\"\"\n",
    "    takes around 240 s\n",
    "    \"\"\"\n",
    "    timer_start = time.time()\n",
    "    hdr = {'User-Agent': 'Mozilla/5.0'}\n",
    "    req = Request(url, headers=hdr)\n",
    "    page = urlopen(req)\n",
    "    soup = BeautifulSoup(page)\n",
    "\n",
    "    sp500 = [] # alittle more than sp500, need to fix\n",
    "    # links_cases = ['nyse', 'nasdaq', 'cboe']\n",
    "    for a in soup.find_all('a'):\n",
    "        try:\n",
    "            if _is_all_caps(a.get_text()):\n",
    "                # print('www.nyse.com/quote/XNYS' in a.get('href'))        \n",
    "                sp500.append(a.get_text())\n",
    "        except:\n",
    "            pass\n",
    "        \n",
    "    sp500 = set(sp500)\n",
    "    series = []\n",
    "    for t in sp500:\n",
    "        s = yf.Ticker(t).history(period=\"max\")['Close']\n",
    "        if len(s) < min_days:\n",
    "            continue\n",
    "        series.append(pd.Series(list(s), index=s.index, name=t))\n",
    "    df = pd.concat(series, axis=1)\n",
    "    print(f\"\"\"Shape: {df.shape}\n",
    "            (Took {time.time()  - timer_start:.2f} s)\"\"\")\n",
    "    if save:\n",
    "        df.to_csv(save)\n",
    "    return df\n",
    "\n",
    "\n",
    "def make_train_data(data, cut_off=0.8):\n",
    "\n",
    "    series = [] # original time series\n",
    "    series_train = [i[:CUT_OFF*len(i)] for i in series]\n",
    "\n",
    "    \n",
    "# analysis functions\n",
    "def volatility(ts):\n",
    "    return np.var(ts)\n",
    "\n",
    "\n",
    "def power_law_weight():\n",
    "    \"\"\"\n",
    "    ?1.Linearly sort all tickers by volatility\n",
    "    2. add a weight , in terms of percent of budget\n",
    "    \"\"\"\n",
    "    pass"
   ]
  },
  {
   "cell_type": "code",
   "execution_count": 102,
   "id": "eda2d6f6-65b9-4ea4-bc2a-de9dcb3e2883",
   "metadata": {},
   "outputs": [
    {
     "name": "stdout",
     "output_type": "stream",
     "text": [
      "- : No data found for this date range, symbol may be delisted\n",
      "- GICS: No data found, symbol may be delisted\n",
      "- TSYS: No data found for this date range, symbol may be delisted\n",
      "- MBIA: No data found for this date range, symbol may be delisted\n",
      "- LVMH: No data found, symbol may be delisted\n",
      "- SCANA: No data found, symbol may be delisted\n",
      "- GGP: No data found for this date range, symbol may be delisted\n",
      "- IQVIA: No data found, symbol may be delisted\n",
      "(Took 239.31 s)\n"
     ]
    }
   ],
   "source": [
    "# data = get_sp500()"
   ]
  },
  {
   "cell_type": "code",
   "execution_count": 133,
   "id": "6f29f007-4a7f-45be-bcf0-fba7a827f26a",
   "metadata": {},
   "outputs": [
    {
     "data": {
      "image/png": "[encoded data removed]",
      "text/plain": [
       "<Figure size 432x288 with 1 Axes>"
      ]
     },
     "metadata": {
      "needs_background": "light"
     },
     "output_type": "display_data"
    },
    {
     "name": "stderr",
     "output_type": "stream",
     "text": [
      "/var/folders/xc/7yy4pnhj7vs66gsxgymx9ffr0000gn/T/ipykernel_58692/465836065.py:6: VisibleDeprecationWarning: Creating an ndarray from ragged nested sequences (which is a list-or-tuple of lists-or-tuples-or ndarrays with different lengths or shapes) is deprecated. If you meant to do this, you must specify 'dtype=object' when creating the ndarray.\n",
      "  all_years = np.hstack(np.array([list(data[t][~pd.isna(data[t])].index.year) for t in data.columns]))\n"
     ]
    },
    {
     "data": {
      "image/png": "[encoded data removed]",
      "text/plain": [
       "<Figure size 432x288 with 1 Axes>"
      ]
     },
     "metadata": {
      "needs_background": "light"
     },
     "output_type": "display_data"
    }
   ],
   "source": [
    "plt.figure()\n",
    "plt.imshow(data[data.index>'2005-01-02'].T)\n",
    "plt.ylabel('date index')\n",
    "plt.show()\n",
    "plt.figure()\n",
    "all_years = np.hstack(np.array([list(data[t][~pd.isna(data[t])].index.year) for t in data.columns]))\n",
    "plt.hist(all_years, bins=25)\n",
    "plt.show()"
   ]
  },
  {
   "cell_type": "markdown",
   "id": "ec1197bc-2e60-401b-96ce-4e465e9e6a38",
   "metadata": {},
   "source": [
    "# data reshape\n",
    "\n",
    "- easier to concat all series into one big dataframe\n",
    "    - nice to visualize too\n",
    "- then find latest start date, and start there\n",
    "- 90/10 split\n"
   ]
  },
  {
   "cell_type": "code",
   "execution_count": 78,
   "id": "af3aca2b-76ab-49d3-b30e-c51b967667f5",
   "metadata": {},
   "outputs": [
    {
     "data": {
      "text/plain": [
       "[Timestamp('2022-01-19 00:00:00'),\n",
       " Timestamp('2021-05-14 00:00:00'),\n",
       " Timestamp('2020-03-19 00:00:00'),\n",
       " Timestamp('2020-03-19 00:00:00'),\n",
       " Timestamp('2019-05-24 00:00:00'),\n",
       " Timestamp('2019-03-20 00:00:00'),\n",
       " Timestamp('2019-03-13 00:00:00'),\n",
       " Timestamp('2019-03-12 00:00:00'),\n",
       " Timestamp('2018-12-07 00:00:00'),\n",
       " Timestamp('2018-04-26 00:00:00'),\n",
       " Timestamp('2018-01-19 00:00:00'),\n",
       " Timestamp('2018-01-02 00:00:00'),\n",
       " Timestamp('2017-05-12 00:00:00'),\n",
       " Timestamp('2016-11-10 00:00:00'),\n",
       " Timestamp('2016-11-01 00:00:00'),\n",
       " Timestamp('2016-07-05 00:00:00'),\n",
       " Timestamp('2015-11-16 00:00:00'),\n",
       " Timestamp('2015-10-19 00:00:00'),\n",
       " Timestamp('2015-07-06 00:00:00'),\n",
       " Timestamp('2015-07-06 00:00:00')]"
      ]
     },
     "execution_count": 78,
     "metadata": {},
     "output_type": "execute_result"
    }
   ],
   "source": [
    "sorted([data[k].index[0] for k in data], reverse=True)[:20]"
   ]
  },
  {
   "cell_type": "code",
   "execution_count": null,
   "id": "47d60ed2-a63d-4cdd-9030-4dd95cfe3775",
   "metadata": {},
   "outputs": [],
   "source": [
    "import yfinance as yf\n",
    "\n",
    "\n",
    "tickers = ['MFS']\n",
    "msft = yf.Ticker(\"MSFT\")\n",
    "\n",
    "# get stock info\n",
    "msft.info\n",
    "\n",
    "# get historical market data\n",
    "hist = msft.history(period=\"max\")\n",
    "\n",
    "import matplotlib.pyplot as plt\\"
   ]
  },
  {
   "cell_type": "code",
   "execution_count": 8,
   "id": "56663c7c-daaa-4884-ae5f-3f15c0610850",
   "metadata": {},
   "outputs": [
    {
     "data": {
      "text/plain": [
       "[<matplotlib.lines.Line2D at 0x7fbe228f6640>]"
      ]
     },
     "execution_count": 8,
     "metadata": {},
     "output_type": "execute_result"
    },
    {
     "data": {
      "image/png": "[encoded data removed]",
      "text/plain": [
       "<Figure size 432x288 with 1 Axes>"
      ]
     },
     "metadata": {
      "needs_background": "light"
     },
     "output_type": "display_data"
    }
   ],
   "source": [
    "plt.plot(hist['Close'])"
   ]
  }
 ],
 "metadata": {
  "kernelspec": {
   "display_name": "Python 3 (ipykernel)",
   "language": "python",
   "name": "python3"
  },
  "language_info": {
   "codemirror_mode": {
    "name": "ipython",
    "version": 3
   },
   "file_extension": ".py",
   "mimetype": "text/x-python",
   "name": "python",
   "nbconvert_exporter": "python",
   "pygments_lexer": "ipython3",
   "version": "3.9.12"
  }
 },
 "nbformat": 4,
 "nbformat_minor": 5
}
