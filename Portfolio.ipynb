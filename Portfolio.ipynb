{
 "cells": [
  {
   "cell_type": "code",
   "execution_count": 2,
   "metadata": {
    "execution": {
     "iopub.execute_input": "2020-07-14T04:52:02.009229Z",
     "iopub.status.busy": "2020-07-14T04:52:02.005434Z",
     "iopub.status.idle": "2020-07-14T04:52:18.134263Z",
     "shell.execute_reply": "2020-07-14T04:52:18.131615Z",
     "shell.execute_reply.started": "2020-07-14T04:52:02.009110Z"
    }
   },
   "outputs": [],
   "source": [
    "import yfinance as yf\n",
    "import pandas as pd\n",
    "from datetime import date"
   ]
  },
  {
   "cell_type": "markdown",
   "metadata": {},
   "source": [
    "Want to implement a JS version so can open in browser w/ D3 vis etc\n",
    "\n",
    "Maybe inherit from some Market class to automatically grab prices – Or can just grab prices directly from API like yfinance\n",
    "- The more accurate the better; yfinance maybe not the move\n",
    "\n",
    "TODO: export it (offline) and then figure out how to save it online\n",
    "- Maybe have a hardcore mode where funds actually matter (can't buy without enough)"
   ]
  },
  {
   "cell_type": "code",
   "execution_count": 146,
   "metadata": {
    "execution": {
     "iopub.execute_input": "2020-06-18T05:57:26.956073Z",
     "iopub.status.busy": "2020-06-18T05:57:26.954899Z",
     "iopub.status.idle": "2020-06-18T05:57:26.990068Z",
     "shell.execute_reply": "2020-06-18T05:57:26.987466Z",
     "shell.execute_reply.started": "2020-06-18T05:57:26.955891Z"
    }
   },
   "outputs": [],
   "source": [
    "class Portfolio:\n",
    "\n",
    "    def __init__(self, funds):\n",
    "        self.funds = funds\n",
    "        self.fund_hist = [funds]\n",
    "        self.portfolio = {}\n",
    "\n",
    "    def getPrice(self, ticker, day):\n",
    "        prices = yf.download(ticker, day)\n",
    "        price = data.Close[0] # using an arbitrary price for now \n",
    "        return price\n",
    "        \n",
    "    def buy(self, ticker, num_shares, day = None):\n",
    "        \"\"\"Buys share(s).  If no date specified, assumes current day\"\"\"\n",
    "        if day is None:\n",
    "            day = str(date.today())\n",
    "\n",
    "        price = self.getPrice(ticker, day)\n",
    "        \n",
    "        if ticker in self.portfolio.keys():\n",
    "            self.portfolio[ticker].append(('BUY', day, num_shares, price))\n",
    "            prev_shares = self.portfolio[ticker][0]\n",
    "            prev_total = self.portfolio[ticker][1]\n",
    "            self.portfolio[ticker][0] = prev_shares + num_shares\n",
    "            self.portfolio[ticker][1] = prev_total + num_shares*price\n",
    "        else:\n",
    "            self.portfolio.update({ticker:[num_shares, num_shares*price, ('BUY', day, num_shares, price)]})\n",
    "        \n",
    "        self.funds = self.funds - num_shares*price\n",
    "        self.fund_hist.append(self.funds)\n",
    "    \n",
    "    def sell(self, ticker, num_shares, day = None):\n",
    "\n",
    "        if day is None:\n",
    "            day = str(date.today())\n",
    "        \n",
    "        price = self.getPrice(ticker, day)  \n",
    "        \n",
    "        if ticker not in self.portfolio.keys():\n",
    "            raise KeyError('Ticker not found in portfolio.')\n",
    "        \n",
    "        else:\n",
    "            prev_shares = self.portfolio[ticker][0]\n",
    "            prev_total = self.portfolio[ticker][1]\n",
    "            if num_shares >  self.portfolio[ticker][1]:\n",
    "                raise ValueError('Size {} sell order > {} current shares'.format(num_shares, prev_shares))\n",
    "            else:\n",
    "                self.portfolio[ticker].append(('SELL', day, num_shares, price))\n",
    "                self.portfolio[ticker][0] = prev_shares - num_shares\n",
    "                self.portfolio[ticker][1] = prev_total - num_shares*price\n",
    "                \n",
    "            \n",
    "        self.funds = self.funds + num_shares*price\n",
    "        self.fund_hist.append(self.funds)\n",
    "        \n",
    "    def display(self, mode = 'df'):\n",
    "        if mode == 'df':\n",
    "            df = pd.DataFrame.from_dict(self.portfolio, orient='index', columns = ['Shares', 'Equity', 'H'])\n",
    "            return df.drop('H', 1)\n",
    "        elif mode == 'hist':\n",
    "            print(self.portfolio)"
   ]
  },
  {
   "cell_type": "code",
   "execution_count": 147,
   "metadata": {
    "execution": {
     "iopub.execute_input": "2020-06-18T05:57:27.584391Z",
     "iopub.status.busy": "2020-06-18T05:57:27.581395Z",
     "iopub.status.idle": "2020-06-18T05:57:27.591859Z",
     "shell.execute_reply": "2020-06-18T05:57:27.589805Z",
     "shell.execute_reply.started": "2020-06-18T05:57:27.581896Z"
    }
   },
   "outputs": [],
   "source": [
    "brain_fund = Portfolio(1000000)"
   ]
  },
  {
   "cell_type": "code",
   "execution_count": 148,
   "metadata": {
    "execution": {
     "iopub.execute_input": "2020-06-18T05:57:27.914073Z",
     "iopub.status.busy": "2020-06-18T05:57:27.912832Z",
     "iopub.status.idle": "2020-06-18T05:57:29.236868Z",
     "shell.execute_reply": "2020-06-18T05:57:29.235540Z",
     "shell.execute_reply.started": "2020-06-18T05:57:27.913564Z"
    }
   },
   "outputs": [
    {
     "name": "stdout",
     "output_type": "stream",
     "text": [
      "[*********************100%***********************]  1 of 1 completed\n",
      "{'AAPL': [400, 396715.9912109375, ('BUY', '2020-06-17', 400, 991.7899780273438)]}\n"
     ]
    }
   ],
   "source": [
    "brain_fund.buy('AAPL', 400)\n",
    "brain_fund.display('hist')"
   ]
  },
  {
   "cell_type": "code",
   "execution_count": 149,
   "metadata": {
    "execution": {
     "iopub.execute_input": "2020-06-18T05:57:29.241416Z",
     "iopub.status.busy": "2020-06-18T05:57:29.240701Z",
     "iopub.status.idle": "2020-06-18T05:57:30.543725Z",
     "shell.execute_reply": "2020-06-18T05:57:30.542374Z",
     "shell.execute_reply.started": "2020-06-18T05:57:29.241255Z"
    }
   },
   "outputs": [
    {
     "name": "stdout",
     "output_type": "stream",
     "text": [
      "[*********************100%***********************]  1 of 1 completed\n"
     ]
    }
   ],
   "source": [
    "brain_fund.buy('TSLA',500)"
   ]
  },
  {
   "cell_type": "code",
   "execution_count": 150,
   "metadata": {
    "execution": {
     "iopub.execute_input": "2020-06-18T05:57:30.546810Z",
     "iopub.status.busy": "2020-06-18T05:57:30.546217Z",
     "iopub.status.idle": "2020-06-18T05:57:30.564766Z",
     "shell.execute_reply": "2020-06-18T05:57:30.563154Z",
     "shell.execute_reply.started": "2020-06-18T05:57:30.546504Z"
    }
   },
   "outputs": [
    {
     "data": {
      "text/html": [
       "<div>\n",
       "<style scoped>\n",
       "    .dataframe tbody tr th:only-of-type {\n",
       "        vertical-align: middle;\n",
       "    }\n",
       "\n",
       "    .dataframe tbody tr th {\n",
       "        vertical-align: top;\n",
       "    }\n",
       "\n",
       "    .dataframe thead th {\n",
       "        text-align: right;\n",
       "    }\n",
       "</style>\n",
       "<table border=\"1\" class=\"dataframe\">\n",
       "  <thead>\n",
       "    <tr style=\"text-align: right;\">\n",
       "      <th></th>\n",
       "      <th>Shares</th>\n",
       "      <th>Equity</th>\n",
       "    </tr>\n",
       "  </thead>\n",
       "  <tbody>\n",
       "    <tr>\n",
       "      <td>AAPL</td>\n",
       "      <td>400</td>\n",
       "      <td>396715.991211</td>\n",
       "    </tr>\n",
       "    <tr>\n",
       "      <td>TSLA</td>\n",
       "      <td>500</td>\n",
       "      <td>495894.989014</td>\n",
       "    </tr>\n",
       "  </tbody>\n",
       "</table>\n",
       "</div>"
      ],
      "text/plain": [
       "      Shares         Equity\n",
       "AAPL     400  396715.991211\n",
       "TSLA     500  495894.989014"
      ]
     },
     "execution_count": 150,
     "metadata": {},
     "output_type": "execute_result"
    }
   ],
   "source": [
    "d = brain_fund.display('df')\n",
    "d"
   ]
  },
  {
   "cell_type": "code",
   "execution_count": 6,
   "metadata": {
    "execution": {
     "iopub.execute_input": "2020-07-14T05:01:05.154796Z",
     "iopub.status.busy": "2020-07-14T05:01:05.149811Z",
     "iopub.status.idle": "2020-07-14T05:01:06.438375Z",
     "shell.execute_reply": "2020-07-14T05:01:06.436133Z",
     "shell.execute_reply.started": "2020-07-14T05:01:05.154657Z"
    }
   },
   "outputs": [
    {
     "name": "stdout",
     "output_type": "stream",
     "text": [
      "[*********************100%***********************]  1 of 1 completed\n",
      "\n",
      "1 Failed download:\n",
      "- $TSLA: No data found, symbol may be delisted\n"
     ]
    }
   ],
   "source": [
    "data = yf.download('$TSLA', '2020-07-13')\n"
   ]
  },
  {
   "cell_type": "code",
   "execution_count": 5,
   "metadata": {
    "execution": {
     "iopub.execute_input": "2020-07-14T05:00:56.797385Z",
     "iopub.status.busy": "2020-07-14T05:00:56.796336Z",
     "iopub.status.idle": "2020-07-14T05:00:56.899996Z",
     "shell.execute_reply": "2020-07-14T05:00:56.872813Z",
     "shell.execute_reply.started": "2020-07-14T05:00:56.797270Z"
    }
   },
   "outputs": [
    {
     "data": {
      "text/html": [
       "<div>\n",
       "<style scoped>\n",
       "    .dataframe tbody tr th:only-of-type {\n",
       "        vertical-align: middle;\n",
       "    }\n",
       "\n",
       "    .dataframe tbody tr th {\n",
       "        vertical-align: top;\n",
       "    }\n",
       "\n",
       "    .dataframe thead th {\n",
       "        text-align: right;\n",
       "    }\n",
       "</style>\n",
       "<table border=\"1\" class=\"dataframe\">\n",
       "  <thead>\n",
       "    <tr style=\"text-align: right;\">\n",
       "      <th></th>\n",
       "      <th>Open</th>\n",
       "      <th>High</th>\n",
       "      <th>Low</th>\n",
       "      <th>Close</th>\n",
       "      <th>Adj Close</th>\n",
       "      <th>Volume</th>\n",
       "    </tr>\n",
       "    <tr>\n",
       "      <th>Date</th>\n",
       "      <th></th>\n",
       "      <th></th>\n",
       "      <th></th>\n",
       "      <th></th>\n",
       "      <th></th>\n",
       "      <th></th>\n",
       "    </tr>\n",
       "  </thead>\n",
       "  <tbody>\n",
       "  </tbody>\n",
       "</table>\n",
       "</div>"
      ],
      "text/plain": [
       "Empty DataFrame\n",
       "Columns: [Open, High, Low, Close, Adj Close, Volume]\n",
       "Index: []"
      ]
     },
     "execution_count": 5,
     "metadata": {},
     "output_type": "execute_result"
    }
   ],
   "source": [
    "data"
   ]
  },
  {
   "cell_type": "code",
   "execution_count": null,
   "metadata": {},
   "outputs": [],
   "source": []
  }
 ],
 "metadata": {
  "kernelspec": {
   "display_name": "Python 3",
   "language": "python",
   "name": "python3"
  },
  "language_info": {
   "codemirror_mode": {
    "name": "ipython",
    "version": 3
   },
   "file_extension": ".py",
   "mimetype": "text/x-python",
   "name": "python",
   "nbconvert_exporter": "python",
   "pygments_lexer": "ipython3",
   "version": "3.7.4"
  }
 },
 "nbformat": 4,
 "nbformat_minor": 4
}
