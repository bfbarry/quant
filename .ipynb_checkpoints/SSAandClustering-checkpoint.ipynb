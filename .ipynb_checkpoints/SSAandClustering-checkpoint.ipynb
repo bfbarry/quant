{
 "cells": [
  {
   "cell_type": "code",
   "execution_count": 41,
   "metadata": {
    "execution": {
     "iopub.execute_input": "2020-09-12T23:29:14.370870Z",
     "iopub.status.busy": "2020-09-12T23:29:14.370119Z",
     "iopub.status.idle": "2020-09-12T23:29:14.383049Z",
     "shell.execute_reply": "2020-09-12T23:29:14.376355Z",
     "shell.execute_reply.started": "2020-09-12T23:29:14.370631Z"
    }
   },
   "outputs": [],
   "source": [
    "import pandas as pd\n",
    "import numpy as np\n",
    "import matplotlib.pyplot as plt\n",
    "\n",
    "import yfinance as yf\n",
    "import ta\n",
    "from sklearn.decomposition import PCA\n",
    "from neurodsp import sim #for brownian motion \n",
    "from math import log, floor"
   ]
  },
  {
   "cell_type": "markdown",
   "metadata": {},
   "source": [
    "## Pipeline\n",
    "\n",
    "* Get tickers and their sectors (Prob need a better more up to date way of getting tickers)\n",
    "* Compare PCA and SSA for finding similar patterns\n",
    "    - Maybe do this on some sort of moving averages (how to figure out time windows?)\n",
    "* Cluster\n",
    "\n",
    "### Also\n",
    "- DFA, brownian motion modelling"
   ]
  },
  {
   "cell_type": "code",
   "execution_count": 2,
   "metadata": {
    "execution": {
     "iopub.execute_input": "2020-09-06T17:06:07.849015Z",
     "iopub.status.busy": "2020-09-06T17:06:07.848063Z",
     "iopub.status.idle": "2020-09-06T17:06:07.898836Z",
     "shell.execute_reply": "2020-09-06T17:06:07.896616Z",
     "shell.execute_reply.started": "2020-09-06T17:06:07.848607Z"
    }
   },
   "outputs": [],
   "source": [
    "tickers = pd.read_csv('data/historical_stocks.csv')\n",
    "tickers = tickers.dropna(axis=0, how='any')"
   ]
  },
  {
   "cell_type": "code",
   "execution_count": 3,
   "metadata": {
    "execution": {
     "iopub.execute_input": "2020-09-06T17:06:08.145077Z",
     "iopub.status.busy": "2020-09-06T17:06:08.143288Z",
     "iopub.status.idle": "2020-09-06T17:06:08.208445Z",
     "shell.execute_reply": "2020-09-06T17:06:08.206408Z",
     "shell.execute_reply.started": "2020-09-06T17:06:08.144969Z"
    }
   },
   "outputs": [
    {
     "data": {
      "text/html": [
       "<div>\n",
       "<style scoped>\n",
       "    .dataframe tbody tr th:only-of-type {\n",
       "        vertical-align: middle;\n",
       "    }\n",
       "\n",
       "    .dataframe tbody tr th {\n",
       "        vertical-align: top;\n",
       "    }\n",
       "\n",
       "    .dataframe thead th {\n",
       "        text-align: right;\n",
       "    }\n",
       "</style>\n",
       "<table border=\"1\" class=\"dataframe\">\n",
       "  <thead>\n",
       "    <tr style=\"text-align: right;\">\n",
       "      <th></th>\n",
       "      <th>ticker</th>\n",
       "      <th>exchange</th>\n",
       "      <th>name</th>\n",
       "      <th>sector</th>\n",
       "      <th>industry</th>\n",
       "    </tr>\n",
       "  </thead>\n",
       "  <tbody>\n",
       "    <tr>\n",
       "      <td>0</td>\n",
       "      <td>PIH</td>\n",
       "      <td>NASDAQ</td>\n",
       "      <td>1347 PROPERTY INSURANCE HOLDINGS, INC.</td>\n",
       "      <td>FINANCE</td>\n",
       "      <td>PROPERTY-CASUALTY INSURERS</td>\n",
       "    </tr>\n",
       "    <tr>\n",
       "      <td>1</td>\n",
       "      <td>PIHPP</td>\n",
       "      <td>NASDAQ</td>\n",
       "      <td>1347 PROPERTY INSURANCE HOLDINGS, INC.</td>\n",
       "      <td>FINANCE</td>\n",
       "      <td>PROPERTY-CASUALTY INSURERS</td>\n",
       "    </tr>\n",
       "    <tr>\n",
       "      <td>2</td>\n",
       "      <td>TURN</td>\n",
       "      <td>NASDAQ</td>\n",
       "      <td>180 DEGREE CAPITAL CORP.</td>\n",
       "      <td>FINANCE</td>\n",
       "      <td>FINANCE/INVESTORS SERVICES</td>\n",
       "    </tr>\n",
       "    <tr>\n",
       "      <td>3</td>\n",
       "      <td>FLWS</td>\n",
       "      <td>NASDAQ</td>\n",
       "      <td>1-800 FLOWERS.COM, INC.</td>\n",
       "      <td>CONSUMER SERVICES</td>\n",
       "      <td>OTHER SPECIALTY STORES</td>\n",
       "    </tr>\n",
       "    <tr>\n",
       "      <td>4</td>\n",
       "      <td>FCCY</td>\n",
       "      <td>NASDAQ</td>\n",
       "      <td>1ST CONSTITUTION BANCORP (NJ)</td>\n",
       "      <td>FINANCE</td>\n",
       "      <td>SAVINGS INSTITUTIONS</td>\n",
       "    </tr>\n",
       "  </tbody>\n",
       "</table>\n",
       "</div>"
      ],
      "text/plain": [
       "  ticker exchange                                    name             sector  \\\n",
       "0    PIH   NASDAQ  1347 PROPERTY INSURANCE HOLDINGS, INC.            FINANCE   \n",
       "1  PIHPP   NASDAQ  1347 PROPERTY INSURANCE HOLDINGS, INC.            FINANCE   \n",
       "2   TURN   NASDAQ                180 DEGREE CAPITAL CORP.            FINANCE   \n",
       "3   FLWS   NASDAQ                 1-800 FLOWERS.COM, INC.  CONSUMER SERVICES   \n",
       "4   FCCY   NASDAQ           1ST CONSTITUTION BANCORP (NJ)            FINANCE   \n",
       "\n",
       "                     industry  \n",
       "0  PROPERTY-CASUALTY INSURERS  \n",
       "1  PROPERTY-CASUALTY INSURERS  \n",
       "2  FINANCE/INVESTORS SERVICES  \n",
       "3      OTHER SPECIALTY STORES  \n",
       "4        SAVINGS INSTITUTIONS  "
      ]
     },
     "execution_count": 3,
     "metadata": {},
     "output_type": "execute_result"
    }
   ],
   "source": [
    "tickers.head()"
   ]
  },
  {
   "cell_type": "code",
   "execution_count": 4,
   "metadata": {
    "execution": {
     "iopub.execute_input": "2020-09-06T17:06:15.022933Z",
     "iopub.status.busy": "2020-09-06T17:06:15.022426Z",
     "iopub.status.idle": "2020-09-06T17:06:15.030738Z",
     "shell.execute_reply": "2020-09-06T17:06:15.028638Z",
     "shell.execute_reply.started": "2020-09-06T17:06:15.022713Z"
    }
   },
   "outputs": [
    {
     "data": {
      "text/plain": [
       "(5020, 5)"
      ]
     },
     "execution_count": 4,
     "metadata": {},
     "output_type": "execute_result"
    }
   ],
   "source": [
    "tickers.shape"
   ]
  },
  {
   "cell_type": "code",
   "execution_count": 5,
   "metadata": {
    "execution": {
     "iopub.execute_input": "2020-09-06T17:06:17.332583Z",
     "iopub.status.busy": "2020-09-06T17:06:17.331471Z",
     "iopub.status.idle": "2020-09-06T17:06:17.348970Z",
     "shell.execute_reply": "2020-09-06T17:06:17.347058Z",
     "shell.execute_reply.started": "2020-09-06T17:06:17.332265Z"
    }
   },
   "outputs": [
    {
     "data": {
      "text/plain": [
       "array(['FINANCE', 'CONSUMER SERVICES', 'TECHNOLOGY', 'PUBLIC UTILITIES',\n",
       "       'CAPITAL GOODS', 'BASIC INDUSTRIES', 'HEALTH CARE',\n",
       "       'CONSUMER DURABLES', 'ENERGY', 'MISCELLANEOUS', 'SECTOR',\n",
       "       'TRANSPORTATION', 'CONSUMER NON-DURABLES'], dtype=object)"
      ]
     },
     "execution_count": 5,
     "metadata": {},
     "output_type": "execute_result"
    }
   ],
   "source": [
    "tickers.sector.unique()"
   ]
  },
  {
   "cell_type": "code",
   "execution_count": 39,
   "metadata": {},
   "outputs": [
    {
     "data": {
      "text/html": [
       "<div>\n",
       "<style scoped>\n",
       "    .dataframe tbody tr th:only-of-type {\n",
       "        vertical-align: middle;\n",
       "    }\n",
       "\n",
       "    .dataframe tbody tr th {\n",
       "        vertical-align: top;\n",
       "    }\n",
       "\n",
       "    .dataframe thead th {\n",
       "        text-align: right;\n",
       "    }\n",
       "</style>\n",
       "<table border=\"1\" class=\"dataframe\">\n",
       "  <thead>\n",
       "    <tr style=\"text-align: right;\">\n",
       "      <th></th>\n",
       "      <th>ticker</th>\n",
       "      <th>exchange</th>\n",
       "      <th>name</th>\n",
       "      <th>sector</th>\n",
       "      <th>industry</th>\n",
       "    </tr>\n",
       "  </thead>\n",
       "  <tbody>\n",
       "    <tr>\n",
       "      <td>6</td>\n",
       "      <td>VNET</td>\n",
       "      <td>NASDAQ</td>\n",
       "      <td>21VIANET GROUP, INC.</td>\n",
       "      <td>TECHNOLOGY</td>\n",
       "      <td>COMPUTER SOFTWARE: PROGRAMMING, DATA PROCESSING</td>\n",
       "    </tr>\n",
       "    <tr>\n",
       "      <td>7</td>\n",
       "      <td>TWOU</td>\n",
       "      <td>NASDAQ</td>\n",
       "      <td>2U, INC.</td>\n",
       "      <td>TECHNOLOGY</td>\n",
       "      <td>COMPUTER SOFTWARE: PREPACKAGED SOFTWARE</td>\n",
       "    </tr>\n",
       "    <tr>\n",
       "      <td>8</td>\n",
       "      <td>JOBS</td>\n",
       "      <td>NASDAQ</td>\n",
       "      <td>51JOB, INC.</td>\n",
       "      <td>TECHNOLOGY</td>\n",
       "      <td>DIVERSIFIED COMMERCIAL SERVICES</td>\n",
       "    </tr>\n",
       "    <tr>\n",
       "      <td>22</td>\n",
       "      <td>ACIA</td>\n",
       "      <td>NASDAQ</td>\n",
       "      <td>ACACIA COMMUNICATIONS, INC.</td>\n",
       "      <td>TECHNOLOGY</td>\n",
       "      <td>SEMICONDUCTORS</td>\n",
       "    </tr>\n",
       "    <tr>\n",
       "      <td>37</td>\n",
       "      <td>ACIW</td>\n",
       "      <td>NASDAQ</td>\n",
       "      <td>ACI WORLDWIDE, INC.</td>\n",
       "      <td>TECHNOLOGY</td>\n",
       "      <td>COMPUTER SOFTWARE: PREPACKAGED SOFTWARE</td>\n",
       "    </tr>\n",
       "  </tbody>\n",
       "</table>\n",
       "</div>"
      ],
      "text/plain": [
       "   ticker exchange                         name      sector  \\\n",
       "6    VNET   NASDAQ         21VIANET GROUP, INC.  TECHNOLOGY   \n",
       "7    TWOU   NASDAQ                     2U, INC.  TECHNOLOGY   \n",
       "8    JOBS   NASDAQ                  51JOB, INC.  TECHNOLOGY   \n",
       "22   ACIA   NASDAQ  ACACIA COMMUNICATIONS, INC.  TECHNOLOGY   \n",
       "37   ACIW   NASDAQ          ACI WORLDWIDE, INC.  TECHNOLOGY   \n",
       "\n",
       "                                           industry  \n",
       "6   COMPUTER SOFTWARE: PROGRAMMING, DATA PROCESSING  \n",
       "7           COMPUTER SOFTWARE: PREPACKAGED SOFTWARE  \n",
       "8                   DIVERSIFIED COMMERCIAL SERVICES  \n",
       "22                                   SEMICONDUCTORS  \n",
       "37          COMPUTER SOFTWARE: PREPACKAGED SOFTWARE  "
      ]
     },
     "execution_count": 39,
     "metadata": {},
     "output_type": "execute_result"
    }
   ],
   "source": [
    "is_tech = tickers['sector'] == 'TECHNOLOGY'\n",
    "tech_tickers = tickers[is_tech ==True]\n",
    "\n",
    "tech_tickers.head()"
   ]
  },
  {
   "cell_type": "code",
   "execution_count": 40,
   "metadata": {},
   "outputs": [
    {
     "data": {
      "text/plain": [
       "(607, 5)"
      ]
     },
     "execution_count": 40,
     "metadata": {},
     "output_type": "execute_result"
    }
   ],
   "source": [
    "tech_tickers.shape"
   ]
  },
  {
   "cell_type": "code",
   "execution_count": 49,
   "metadata": {},
   "outputs": [],
   "source": [
    "a = list(tech_tickers['ticker'])"
   ]
  },
  {
   "cell_type": "markdown",
   "metadata": {},
   "source": [
    "# SSA\n",
    "\n",
    "trying on a year of data\n",
    "\n",
    "A general formula for the number of rows in the trajectory matrix is n=nt−m+1, where nt is the length of the original time series vector"
   ]
  },
  {
   "cell_type": "code",
   "execution_count": 4,
   "metadata": {
    "execution": {
     "iopub.execute_input": "2020-09-12T23:09:35.632918Z",
     "iopub.status.busy": "2020-09-12T23:09:35.632129Z",
     "iopub.status.idle": "2020-09-12T23:09:36.081792Z",
     "shell.execute_reply": "2020-09-12T23:09:36.079327Z",
     "shell.execute_reply.started": "2020-09-12T23:09:35.632592Z"
    }
   },
   "outputs": [
    {
     "name": "stdout",
     "output_type": "stream",
     "text": [
      "[*********************100%***********************]  1 of 1 completed\n"
     ]
    },
    {
     "data": {
      "text/html": [
       "<div>\n",
       "<style scoped>\n",
       "    .dataframe tbody tr th:only-of-type {\n",
       "        vertical-align: middle;\n",
       "    }\n",
       "\n",
       "    .dataframe tbody tr th {\n",
       "        vertical-align: top;\n",
       "    }\n",
       "\n",
       "    .dataframe thead th {\n",
       "        text-align: right;\n",
       "    }\n",
       "</style>\n",
       "<table border=\"1\" class=\"dataframe\">\n",
       "  <thead>\n",
       "    <tr style=\"text-align: right;\">\n",
       "      <th></th>\n",
       "      <th>Open</th>\n",
       "      <th>High</th>\n",
       "      <th>Low</th>\n",
       "      <th>Close</th>\n",
       "      <th>Adj Close</th>\n",
       "      <th>Volume</th>\n",
       "    </tr>\n",
       "    <tr>\n",
       "      <th>Date</th>\n",
       "      <th></th>\n",
       "      <th></th>\n",
       "      <th></th>\n",
       "      <th></th>\n",
       "      <th></th>\n",
       "      <th></th>\n",
       "    </tr>\n",
       "  </thead>\n",
       "  <tbody>\n",
       "    <tr>\n",
       "      <td>2019-01-02</td>\n",
       "      <td>61.220001</td>\n",
       "      <td>63.026001</td>\n",
       "      <td>59.759998</td>\n",
       "      <td>62.023998</td>\n",
       "      <td>62.023998</td>\n",
       "      <td>58293000</td>\n",
       "    </tr>\n",
       "    <tr>\n",
       "      <td>2019-01-03</td>\n",
       "      <td>61.400002</td>\n",
       "      <td>61.880001</td>\n",
       "      <td>59.476002</td>\n",
       "      <td>60.071999</td>\n",
       "      <td>60.071999</td>\n",
       "      <td>34826000</td>\n",
       "    </tr>\n",
       "    <tr>\n",
       "      <td>2019-01-04</td>\n",
       "      <td>61.200001</td>\n",
       "      <td>63.599998</td>\n",
       "      <td>60.546001</td>\n",
       "      <td>63.537998</td>\n",
       "      <td>63.537998</td>\n",
       "      <td>36970500</td>\n",
       "    </tr>\n",
       "    <tr>\n",
       "      <td>2019-01-07</td>\n",
       "      <td>64.344002</td>\n",
       "      <td>67.348000</td>\n",
       "      <td>63.549999</td>\n",
       "      <td>66.991997</td>\n",
       "      <td>66.991997</td>\n",
       "      <td>37756000</td>\n",
       "    </tr>\n",
       "    <tr>\n",
       "      <td>2019-01-08</td>\n",
       "      <td>68.391998</td>\n",
       "      <td>68.802002</td>\n",
       "      <td>65.403999</td>\n",
       "      <td>67.070000</td>\n",
       "      <td>67.070000</td>\n",
       "      <td>35042500</td>\n",
       "    </tr>\n",
       "  </tbody>\n",
       "</table>\n",
       "</div>"
      ],
      "text/plain": [
       "                 Open       High        Low      Close  Adj Close    Volume\n",
       "Date                                                                       \n",
       "2019-01-02  61.220001  63.026001  59.759998  62.023998  62.023998  58293000\n",
       "2019-01-03  61.400002  61.880001  59.476002  60.071999  60.071999  34826000\n",
       "2019-01-04  61.200001  63.599998  60.546001  63.537998  63.537998  36970500\n",
       "2019-01-07  64.344002  67.348000  63.549999  66.991997  66.991997  37756000\n",
       "2019-01-08  68.391998  68.802002  65.403999  67.070000  67.070000  35042500"
      ]
     },
     "execution_count": 4,
     "metadata": {},
     "output_type": "execute_result"
    }
   ],
   "source": [
    "tsla = yf.download('TSLA', '2019-01-01','2020-01-01')\n",
    "tsla.head()"
   ]
  },
  {
   "cell_type": "code",
   "execution_count": 5,
   "metadata": {
    "execution": {
     "iopub.execute_input": "2020-09-12T23:09:38.080434Z",
     "iopub.status.busy": "2020-09-12T23:09:38.079894Z",
     "iopub.status.idle": "2020-09-12T23:09:44.769287Z",
     "shell.execute_reply": "2020-09-12T23:09:44.767727Z",
     "shell.execute_reply.started": "2020-09-12T23:09:38.080334Z"
    }
   },
   "outputs": [
    {
     "data": {
      "image/png": "[encoded data removed]",
      "text/plain": [
       "<Figure size 864x576 with 1 Axes>"
      ]
     },
     "metadata": {
      "needs_background": "light"
     },
     "output_type": "display_data"
    }
   ],
   "source": [
    "mavg20 = ta.volatility.bollinger_mavg(tsla['Open'], 20)\n",
    "\n",
    "pd.DataFrame({\n",
    "    'open': tsla['Open'],\n",
    "    '20 day mavg': mavg20\n",
    "}).plot(figsize=(12,8))\n",
    "\n",
    "plt.grid(which=\"major\", color='k', linestyle='-.', linewidth=0.5)"
   ]
  },
  {
   "cell_type": "code",
   "execution_count": 20,
   "metadata": {
    "execution": {
     "iopub.execute_input": "2020-09-12T23:16:06.189009Z",
     "iopub.status.busy": "2020-09-12T23:16:06.188362Z",
     "iopub.status.idle": "2020-09-12T23:16:06.206817Z",
     "shell.execute_reply": "2020-09-12T23:16:06.203034Z",
     "shell.execute_reply.started": "2020-09-12T23:16:06.188934Z"
    }
   },
   "outputs": [],
   "source": [
    "def delay_embed(data, norm, m, step = 1):\n",
    "    \"\"\"m is window length\"\"\"\n",
    "    data = np.array(data)\n",
    "    nt = data.shape[0] #length of original vector\n",
    "    n = int((nt-m+1)/step) #number of lags\n",
    "    traj_mat = np.empty((0,m)) #initialize delay embedded trajectory matrix\n",
    "    for i in range(n):\n",
    "        window_i = data[i*step:i*step + m]\n",
    "        traj_mat = np.append(traj_mat, [window_i], axis=0 )\n",
    "    \n",
    "    if norm:\n",
    "        traj_mat = (1/(nt**0.5)) * traj_mat #normalize by 1/sqrt(n)\n",
    "    return traj_mat\n",
    "\n",
    "def SSA(data, m, step, norm = True):\n",
    "    \"\"\"Performs SSA on time series with window size m and inter-window step size\"\"\"\n",
    "    if type(data) != np.ndarray:\n",
    "        data = np.array(data)\n",
    "    nt = data.shape[0] #length of original vector\n",
    "    n = int((nt-m+1)/step) #number of lags\n",
    "    \n",
    "    traj_mat = delay_embed(data, norm, m, step)\n",
    "    pca = PCA(n_components = n)\n",
    "    pca.fit(traj_mat.T)\n",
    "    components = pca.components_\n",
    "    e_spectrum = pca.explained_variance_ratio_\n",
    "    \n",
    "    return components, e_spectrum\n",
    "    "
   ]
  },
  {
   "cell_type": "code",
   "execution_count": 30,
   "metadata": {
    "execution": {
     "iopub.execute_input": "2020-09-12T23:19:04.314329Z",
     "iopub.status.busy": "2020-09-12T23:19:04.313533Z",
     "iopub.status.idle": "2020-09-12T23:19:04.338081Z",
     "shell.execute_reply": "2020-09-12T23:19:04.336834Z",
     "shell.execute_reply.started": "2020-09-12T23:19:04.314016Z"
    }
   },
   "outputs": [],
   "source": [
    "data = np.array(tsla['Close'])\n",
    "\n",
    "co, spec = SSA(data, m = 32, step =7)"
   ]
  },
  {
   "cell_type": "code",
   "execution_count": 35,
   "metadata": {
    "execution": {
     "iopub.execute_input": "2020-09-12T23:20:26.188882Z",
     "iopub.status.busy": "2020-09-12T23:20:26.188373Z",
     "iopub.status.idle": "2020-09-12T23:20:28.788680Z",
     "shell.execute_reply": "2020-09-12T23:20:28.778725Z",
     "shell.execute_reply.started": "2020-09-12T23:20:26.188657Z"
    }
   },
   "outputs": [
    {
     "data": {
      "text/plain": [
       "[<matplotlib.lines.Line2D at 0x7f8070a93b10>]"
      ]
     },
     "execution_count": 35,
     "metadata": {},
     "output_type": "execute_result"
    },
    {
     "data": {
      "image/png": "[encoded data removed]",
      "text/plain": [
       "<Figure size 1008x432 with 2 Axes>"
      ]
     },
     "metadata": {
      "needs_background": "light"
     },
     "output_type": "display_data"
    }
   ],
   "source": [
    "plt.figure(figsize=(14,6))\n",
    "plt.subplot(1,2,1)\n",
    "plt.plot(co[0])\n",
    "plt.subplot(1,2,2)\n",
    "plt.loglog(spec)"
   ]
  },
  {
   "cell_type": "markdown",
   "metadata": {},
   "source": [
    "# DFA\n",
    "from https://raphaelvallat.com/entropy/build/html/generated/entropy.detrended_fluctuation.html#entropy.detrended_fluctuation"
   ]
  },
  {
   "cell_type": "code",
   "execution_count": 42,
   "metadata": {
    "execution": {
     "iopub.execute_input": "2020-09-12T23:29:17.608752Z",
     "iopub.status.busy": "2020-09-12T23:29:17.608200Z",
     "iopub.status.idle": "2020-09-12T23:29:17.647994Z",
     "shell.execute_reply": "2020-09-12T23:29:17.643706Z",
     "shell.execute_reply.started": "2020-09-12T23:29:17.608651Z"
    }
   },
   "outputs": [],
   "source": [
    "def _linear_regression(x, y):\n",
    "    \"\"\"Fast linear regression using Numba.\n",
    "    Parameters\n",
    "    ----------\n",
    "    x, y : ndarray, shape (n_times,)\n",
    "        Variables\n",
    "    Returns\n",
    "    -------\n",
    "    slope : float\n",
    "        Slope of 1D least-square regression.\n",
    "    intercept : float\n",
    "        Intercept\n",
    "    \"\"\"\n",
    "    n_times = x.size\n",
    "    sx2 = 0\n",
    "    sx = 0\n",
    "    sy = 0\n",
    "    sxy = 0\n",
    "    for j in range(n_times):\n",
    "        sx2 += x[j] ** 2\n",
    "        sx += x[j]\n",
    "        sxy += x[j] * y[j]\n",
    "        sy += y[j]\n",
    "    den = n_times * sx2 - (sx ** 2)\n",
    "    num = n_times * sxy - sx * sy\n",
    "    slope = num / den\n",
    "    intercept = np.mean(y) - slope * np.mean(x)\n",
    "    return slope, intercept\n",
    "\n",
    "def _log_n(min_n, max_n, factor):\n",
    "    \"\"\"\n",
    "    Creates a list of integer values by successively multiplying a minimum\n",
    "    value min_n by a factor > 1 until a maximum value max_n is reached.\n",
    "    Used for detrended fluctuation analysis (DFA).\n",
    "    Function taken from the nolds python package\n",
    "    (https://github.com/CSchoel/nolds) by Christopher Scholzel.\n",
    "    Parameters\n",
    "    ----------\n",
    "    min_n (float):\n",
    "        minimum value (must be < max_n)\n",
    "    max_n (float):\n",
    "        maximum value (must be > min_n)\n",
    "    factor (float):\n",
    "       factor used to increase min_n (must be > 1)\n",
    "    Returns\n",
    "    -------\n",
    "    list of integers:\n",
    "        min_n, min_n * factor, min_n * factor^2, ... min_n * factor^i < max_n\n",
    "        without duplicates\n",
    "    \"\"\"\n",
    "    max_i = int(floor(log(1.0 * max_n / min_n) / log(factor)))\n",
    "    ns = [min_n]\n",
    "    for i in range(max_i + 1):\n",
    "        n = int(floor(min_n * (factor ** i)))\n",
    "        if n > ns[-1]:\n",
    "            ns.append(n)\n",
    "    return np.array(ns, dtype=np.int64)\n",
    "\n",
    "def dfa(x):\n",
    "    \"\"\"\n",
    "    Utility function for detrended fluctuation analysis\n",
    "    \"\"\"\n",
    "    N = len(x)\n",
    "    nvals = _log_n(4, 0.1 * N, 1.2)\n",
    "    walk = np.cumsum(x - x.mean())\n",
    "    fluctuations = np.zeros(len(nvals))\n",
    "\n",
    "    for i_n, n in enumerate(nvals):\n",
    "        d = np.reshape(walk[:N - (N % n)], (N // n, n))\n",
    "        ran_n = np.array([float(na) for na in range(n)])\n",
    "        d_len = len(d)\n",
    "        trend = np.empty((d_len, ran_n.size))\n",
    "        for i in range(d_len):\n",
    "            slope, intercept = _linear_regression(ran_n, d[i])\n",
    "            trend[i, :] = intercept + slope * ran_n\n",
    "        # Calculate root mean squares of walks in d around trend\n",
    "        # Note that np.mean on specific axis is not supported by Numba\n",
    "        flucs = np.sum((d - trend) ** 2, axis=1) / n\n",
    "        # https://github.com/neuropsychology/NeuroKit/issues/206\n",
    "        fluctuations[i_n] = np.sqrt(np.mean(flucs))\n",
    "\n",
    "    # Filter zero\n",
    "    nonzero = np.nonzero(fluctuations)[0]\n",
    "    fluctuations = fluctuations[nonzero]\n",
    "    nvals = nvals[nonzero]\n",
    "    if len(fluctuations) == 0:\n",
    "        # all fluctuations are zero => we cannot fit a line\n",
    "        dfa = np.nan\n",
    "    else:\n",
    "        dfa, _ = _linear_regression(np.log(nvals), np.log(fluctuations))\n",
    "    return dfa, fluctuations"
   ]
  },
  {
   "cell_type": "code",
   "execution_count": 59,
   "metadata": {
    "execution": {
     "iopub.execute_input": "2020-09-13T00:12:48.575768Z",
     "iopub.status.busy": "2020-09-13T00:12:48.575212Z",
     "iopub.status.idle": "2020-09-13T00:12:48.992256Z",
     "shell.execute_reply": "2020-09-13T00:12:48.989166Z",
     "shell.execute_reply.started": "2020-09-13T00:12:48.575542Z"
    }
   },
   "outputs": [
    {
     "data": {
      "text/plain": [
       "Text(0.5, 1.0, 'Fluctuations')"
      ]
     },
     "execution_count": 59,
     "metadata": {},
     "output_type": "execute_result"
    },
    {
     "data": {
      "image/png": "[encoded data removed]",
      "text/plain": [
       "<Figure size 432x288 with 1 Axes>"
      ]
     },
     "metadata": {
      "needs_background": "light"
     },
     "output_type": "display_data"
    }
   ],
   "source": [
    "alpha, flux = dfa(data)\n",
    "plt.plot(flux, 'o-')\n",
    "plt.title('Fluctuations')"
   ]
  },
  {
   "cell_type": "markdown",
   "metadata": {},
   "source": [
    "So we see some sort of nonlinearity as well as possibly different time scales.\n",
    "\n",
    "Maybe DFA needs to be restricted to certain epochs (e.g. volatile vs bull vs bear).  How do we delineate between them? \n",
    "\n",
    "As a starting point, can separate epochs based on derivative of moving average.\n",
    "- Based on the below plot, should create epochs > x% of the gradients are of a different sign than the last one (so that 1 different sign does not create a different epoch)\n",
    "    - x = 10/252 = 4% based on the gradient plot below\n",
    "- later can do when the derivative deviates a certain amount\n"
   ]
  },
  {
   "cell_type": "code",
   "execution_count": 60,
   "metadata": {
    "execution": {
     "iopub.execute_input": "2020-09-13T00:13:05.071679Z",
     "iopub.status.busy": "2020-09-13T00:13:05.071129Z",
     "iopub.status.idle": "2020-09-13T00:13:05.520093Z",
     "shell.execute_reply": "2020-09-13T00:13:05.517971Z",
     "shell.execute_reply.started": "2020-09-13T00:13:05.071453Z"
    }
   },
   "outputs": [
    {
     "data": {
      "text/plain": [
       "Text(0.5, 1.0, 'Gradients for mavg20')"
      ]
     },
     "execution_count": 60,
     "metadata": {},
     "output_type": "execute_result"
    },
    {
     "data": {
      "image/png": "[encoded data removed]",
      "text/plain": [
       "<Figure size 576x432 with 1 Axes>"
      ]
     },
     "metadata": {
      "needs_background": "light"
     },
     "output_type": "display_data"
    }
   ],
   "source": [
    "plt.figure(figsize=(8,6))\n",
    "plt.plot(np.gradient(mavg20), '.-')\n",
    "plt.axhline(y=0, color='r')\n",
    "plt.title('Gradients for mavg20')"
   ]
  },
  {
   "cell_type": "code",
   "execution_count": 73,
   "metadata": {
    "execution": {
     "iopub.execute_input": "2020-09-13T00:47:54.226707Z",
     "iopub.status.busy": "2020-09-13T00:47:54.225946Z",
     "iopub.status.idle": "2020-09-13T00:47:54.291427Z",
     "shell.execute_reply": "2020-09-13T00:47:54.264791Z",
     "shell.execute_reply.started": "2020-09-13T00:47:54.226603Z"
    }
   },
   "outputs": [],
   "source": [
    "def create_epochs(data, mavg_len, min_pct = .05):\n",
    "    \"\"\"Separates time series into epochs based on moving average activity\n",
    "    mavg is currently computed from ta library \"\"\"\n",
    "    mavg = ta.volatility.bollinger_mavg(data, mavg_len)\n",
    "    min_epoch = int(min_pct*mavg.shape[0])\n",
    "    gradients = np.gradient(mavg)\n",
    "    epoch_indices = []\n",
    "\n",
    "    sign_count = 0 #counts the consecutive number of a sign once the sign changes \n",
    "    encounter = 0\n",
    "    for n_i, i in enumerate(gradients):     \n",
    "        if n_i > 0:\n",
    "            if past_sign != i**0:\n",
    "                sign_count = 0\n",
    "            else:\n",
    "                sign_count +=1\n",
    "                \n",
    "        if sign_count >= min_epoch:\n",
    "            epoch_indices.append(n_i)\n",
    "        \n",
    "        past_sign = i**0 #Sign to use in next iter; either -1 or 1\n",
    "        \n",
    "    return epoch_indices"
   ]
  },
  {
   "cell_type": "markdown",
   "metadata": {},
   "source": [
    "This is broken for now"
   ]
  },
  {
   "cell_type": "code",
   "execution_count": 75,
   "metadata": {
    "execution": {
     "iopub.execute_input": "2020-09-13T00:50:02.807378Z",
     "iopub.status.busy": "2020-09-13T00:50:02.806890Z",
     "iopub.status.idle": "2020-09-13T00:50:03.239227Z",
     "shell.execute_reply": "2020-09-13T00:50:03.237579Z",
     "shell.execute_reply.started": "2020-09-13T00:50:02.807174Z"
    }
   },
   "outputs": [
    {
     "data": {
      "text/plain": [
       "[<matplotlib.lines.Line2D at 0x7f80730632d0>]"
      ]
     },
     "execution_count": 75,
     "metadata": {},
     "output_type": "execute_result"
    },
    {
     "data": {
      "image/png": "[encoded data removed]",
      "text/plain": [
       "<Figure size 432x288 with 1 Axes>"
      ]
     },
     "metadata": {
      "needs_background": "light"
     },
     "output_type": "display_data"
    }
   ],
   "source": [
    "epoch_i = create_epochs(tsla['Open'], mavg_len = 20)\n",
    "plt.plot(epoch_i, 'o')"
   ]
  },
  {
   "cell_type": "code",
   "execution_count": null,
   "metadata": {},
   "outputs": [],
   "source": []
  }
 ],
 "metadata": {
  "kernelspec": {
   "display_name": "Python 3",
   "language": "python",
   "name": "python3"
  },
  "language_info": {
   "codemirror_mode": {
    "name": "ipython",
    "version": 3
   },
   "file_extension": ".py",
   "mimetype": "text/x-python",
   "name": "python",
   "nbconvert_exporter": "python",
   "pygments_lexer": "ipython3",
   "version": "3.7.4"
  }
 },
 "nbformat": 4,
 "nbformat_minor": 4
}
